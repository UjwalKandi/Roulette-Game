{
  "nbformat": 4,
  "nbformat_minor": 0,
  "metadata": {
    "kernelspec": {
      "display_name": "Python 3",
      "language": "python",
      "name": "python3"
    },
    "language_info": {
      "codemirror_mode": {
        "name": "ipython",
        "version": 3
      },
      "file_extension": ".py",
      "mimetype": "text/x-python",
      "name": "python",
      "nbconvert_exporter": "python",
      "pygments_lexer": "ipython3",
      "version": "3.7.3"
    },
    "colab": {
      "name": "Roulette-Game.ipynb",
      "provenance": []
    }
  },
  "cells": [
    {
      "cell_type": "markdown",
      "metadata": {
        "id": "RNNReDb0kH2f"
      },
      "source": [
        "#Roulette-Game\n",
        "\n",
        ">This program simulates a game of roulette. In roulette, a wheel spins and yields a number between 1 and 49 when a ball drops into a numbered slot. The initial amount is monitored throughout the game and will be reminded to the player after each guess. If the amount goes zero, then the game ends."
      ]
    },
    {
      "cell_type": "code",
      "metadata": {
        "id": "ihdIiAPPirpm",
        "outputId": "14a11364-ad5c-472b-c62b-11a967f6e545"
      },
      "source": [
        "    from random import randint\n",
        "    \n",
        "totalAmount=1000                                          #Total amount invested \n",
        "    \n",
        "while totalAmount > 0:\n",
        "    print(\"Welcome !!!\\nYou have\", totalAmount,\"€. Good Luck !!\\n_________________________________\")\n",
        "    selectedNumber=int(input(\"\\nOn which number do you want to bet ?\"))\n",
        "    \n",
        "    x=0\n",
        "    selectNumber=x\n",
        "    \n",
        "    if x < 0 or x > 49:\n",
        "        print(\"You have to bet a number between 0 and 49\")\n",
        "    \n",
        "    bettingAmount=int(input(\"How much do you want to bet on this number?\"))\n",
        "    numberOutput = randint(0, 49)                         # line to use to generate a random number between 0 and 49\n",
        "    print(\"\\nThe number output is\",numberOutput)\n",
        "    \n",
        "    if numberOutput == selectedNumber:\n",
        "        print(\"You Win!!!\\n_________________________________\")\n",
        "    \n",
        "    else:\n",
        "        print(\"Sorry but you lost, try again !\")\n",
        "        totalAmount-=bettingAmount\n",
        "        print(\"\\nYou now have\",totalAmount,\"€ left\\n_________________________________\")\n",
        "    \n",
        "if totalAmount==0:\n",
        "    print(\"Sorry but you don't have enough money to continue !\\nThe game is now ending !\")\n",
        " "
      ],
      "execution_count": null,
      "outputs": [
        {
          "name": "stdout",
          "output_type": "stream",
          "text": [
            "Welcome !!!\n",
            "You have 1000 €. Good Luck !!\n",
            "_________________________________\n",
            "\n",
            "On which number do you want to bet ?5\n",
            "How much do you want to bet on this number?500\n",
            "\n",
            "The number output is 9\n",
            "Sorry but you lost, try again !\n",
            "\n",
            "You now have 500 € left\n",
            "_________________________________\n",
            "Welcome !!!\n",
            "You have 500 €. Good Luck !!\n",
            "_________________________________\n",
            "\n",
            "On which number do you want to bet ?5\n",
            "How much do you want to bet on this number?500\n",
            "\n",
            "The number output is 36\n",
            "Sorry but you lost, try again !\n",
            "\n",
            "You now have 0 € left\n",
            "_________________________________\n",
            "Sorry but you don't have enough money to continue !\n",
            "The game is now ending !\n"
          ]
        }
      ]
    }
  ]
}